{
 "cells": [
  {
   "cell_type": "code",
   "execution_count": 1,
   "id": "abe01596-e67f-4d92-b627-9cedefb4c87a",
   "metadata": {},
   "outputs": [
    {
     "name": "stdin",
     "output_type": "stream",
     "text": [
      "Enter the staring number : 0\n",
      "Enter the ending number : 20\n"
     ]
    },
    {
     "name": "stdout",
     "output_type": "stream",
     "text": [
      "0\n",
      "1\n",
      "2\n",
      "3\n",
      "4\n",
      "5\n",
      "6\n",
      "7\n",
      "8\n",
      "9\n",
      "10\n",
      "11\n",
      "12\n",
      "13\n",
      "14\n",
      "15\n",
      "16\n",
      "17\n",
      "18\n",
      "19\n"
     ]
    }
   ],
   "source": [
    "s=int(input(\"Enter the staring number :\"))\n",
    "e=int(input(\"Enter the ending number :\"))\n",
    "for delivery in range(s,e):\n",
    "    print(delivery)\n",
    "     "
   ]
  },
  {
   "cell_type": "code",
   "execution_count": 2,
   "id": "ffbf080e-313a-460d-9691-c20c1de43cd3",
   "metadata": {},
   "outputs": [
    {
     "name": "stdin",
     "output_type": "stream",
     "text": [
      "Enter the starting number : 10\n",
      "Enter the ending number : 20\n"
     ]
    },
    {
     "name": "stdout",
     "output_type": "stream",
     "text": [
      "10\n",
      "11\n",
      "12\n",
      "13\n",
      "14\n",
      "15\n",
      "16\n",
      "17\n",
      "18\n",
      "19\n"
     ]
    }
   ],
   "source": [
    "s1=int(input(\"Enter the starting number :\"))\n",
    "e1=int(input(\"Enter the ending number :\"))\n",
    "\n",
    "for board in range(s1,e1):\n",
    "    print(board)"
   ]
  },
  {
   "cell_type": "code",
   "execution_count": 9,
   "id": "347ad46b-b3f5-4b48-947f-1587fd11204f",
   "metadata": {},
   "outputs": [
    {
     "name": "stdin",
     "output_type": "stream",
     "text": [
      "Enter numbers to find it's length : 10\n",
      "Again : 20\n",
      "Again : 14\n",
      "Again : 55\n",
      "Again : 43\n",
      "Again : 87\n",
      "Again : 76\n"
     ]
    },
    {
     "name": "stdout",
     "output_type": "stream",
     "text": [
      "Number of items in the List2 : 7\n"
     ]
    }
   ],
   "source": [
    "l1=int(input(\"Enter numbers to find it's length :\"))\n",
    "l2=int(input(\"Again :\"))\n",
    "l3=int(input(\"Again :\"))\n",
    "l4=int(input(\"Again :\"))\n",
    "l5=int(input(\"Again :\"))\n",
    "l6=int(input(\"Again :\"))\n",
    "l7=int(input(\"Again :\"))\n",
    "\n",
    "com=[l1,l2,l3,l4,l5,l6,l7]\n",
    "leng=len(com)\n",
    "print(\"Number of items in the List2 :\",leng)"
   ]
  },
  {
   "cell_type": "code",
   "execution_count": null,
   "id": "f90fcc34-3d53-4141-98ed-f89f344c2bf3",
   "metadata": {},
   "outputs": [],
   "source": []
  }
 ],
 "metadata": {
  "kernelspec": {
   "display_name": "Python [conda env:base] *",
   "language": "python",
   "name": "conda-base-py"
  },
  "language_info": {
   "codemirror_mode": {
    "name": "ipython",
    "version": 3
   },
   "file_extension": ".py",
   "mimetype": "text/x-python",
   "name": "python",
   "nbconvert_exporter": "python",
   "pygments_lexer": "ipython3",
   "version": "3.13.5"
  }
 },
 "nbformat": 4,
 "nbformat_minor": 5
}
